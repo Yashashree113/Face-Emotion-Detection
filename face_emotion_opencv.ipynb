{
 "cells": [
  {
   "cell_type": "code",
   "execution_count": null,
   "metadata": {},
   "outputs": [
    {
     "ename": "",
     "evalue": "",
     "output_type": "error",
     "traceback": [
      "\u001b[1;31mRunning cells with 'Python 3.10.4 64-bit' requires ipykernel package.\n",
      "\u001b[1;31mRun the following command to install 'ipykernel' into the Python environment. \n",
      "\u001b[1;31mCommand: 'c:/Users/udayk/AppData/Local/Programs/Python/Python310/python.exe -m pip install ipykernel -U --user --force-reinstall'"
     ]
    }
   ],
   "source": [
    "import cv2"
   ]
  },
  {
   "cell_type": "code",
   "execution_count": null,
   "metadata": {},
   "outputs": [],
   "source": [
    "cap = cv2.VideoCapture(0)\n",
    "#cam = cv2.VideoCapture(cv2.CAP_V4L2)\n",
    "while True:\n",
    " \n",
    " _,cap_image = cap.read()\n",
    "\n",
    "\n",
    "\n",
    "\n",
    "cap_img_gray = cv2.cvtColor(cap_image, cv2.COLOR_BGR2GRAY)\n",
    "\n",
    "faces = face_haar_cascade.detectMultiScale(cap_img_gray, 1.3, 5)\n",
    "\n",
    "for (x,y,w,h) in faces:\n",
    "\n",
    "    cv2.rectangle(cap_image, (x,y), (x+w,y+h),(255,0,0),2)\n",
    "    roi_gray = cap_img_gray[y:y+h, x:x+w]\n",
    "    roi_gray = cv2.resize(roi_gray, (48,48))\n",
    "    img_pixels = image.img_to_array(roi_gray)\n",
    "    img_pixels = np.expand_dims(img_pixels, axis=0)\n",
    "\n",
    "    predictions = model.predict(img_pixels)\n",
    "    emotion_label = np.argmax(predictions)\n",
    "\n",
    "    emotion_prediction = label_dict[emotion_label]\n",
    "\n",
    "    cv2.putText(cap_image, emotion_prediction, (int(x), int(y)), cv2.FONT_HERSHEY_SIMPLEX, 0.75, (0,0,0), 1 )\n",
    "\n",
    "    resize_image = cv2.resize(cap_image, (1000,700))\n",
    "    cv2.imshow('Emotion',resize_image)\n",
    "\n",
    "    if cv2.waitKey(10) == ord('b'):\n",
    "        break\n",
    "cap.release()\n",
    "cv2.destroyAllWindows"
   ]
  },
  {
   "cell_type": "code",
   "execution_count": null,
   "metadata": {},
   "outputs": [],
   "source": []
  }
 ],
 "metadata": {
  "kernelspec": {
   "display_name": "Python 3.10.4 64-bit",
   "language": "python",
   "name": "python3"
  },
  "language_info": {
   "codemirror_mode": {
    "name": "ipython",
    "version": 3
   },
   "file_extension": ".py",
   "mimetype": "text/x-python",
   "name": "python",
   "nbconvert_exporter": "python",
   "pygments_lexer": "ipython3",
   "version": "3.10.4"
  },
  "orig_nbformat": 4,
  "vscode": {
   "interpreter": {
    "hash": "6dcfd403e1813b900754552cfa6a3aff213e5def34024259626f31417d6b7d04"
   }
  }
 },
 "nbformat": 4,
 "nbformat_minor": 2
}
